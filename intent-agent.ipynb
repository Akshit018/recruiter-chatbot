{
  "nbformat": 4,
  "nbformat_minor": 0,
  "metadata": {
    "colab": {
      "provenance": [],
      "authorship_tag": "ABX9TyPURY7vp5q4q5CWUTBWhfkK",
      "include_colab_link": true
    },
    "kernelspec": {
      "name": "python3",
      "display_name": "Python 3"
    },
    "language_info": {
      "name": "python"
    }
  },
  "cells": [
    {
      "cell_type": "markdown",
      "metadata": {
        "id": "view-in-github",
        "colab_type": "text"
      },
      "source": [
        "<a href=\"https://colab.research.google.com/github/Akshit018/recruiter-chatbot/blob/main/intent-agent.ipynb\" target=\"_parent\"><img src=\"https://colab.research.google.com/assets/colab-badge.svg\" alt=\"Open In Colab\"/></a>"
      ]
    },
    {
      "cell_type": "code",
      "execution_count": 1,
      "metadata": {
        "colab": {
          "base_uri": "https://localhost:8080/"
        },
        "id": "MiFVqQBwPAOx",
        "outputId": "73868383-db50-480b-800d-fa43117e7bf3"
      },
      "outputs": [
        {
          "name": "stdout",
          "output_type": "stream",
          "text": [
            "OpenAI API Key: ··········\n"
          ]
        }
      ],
      "source": [
        "import os\n",
        "import getpass\n",
        "\n",
        "os.environ[\"OPENAI_API_KEY\"] = os.getenv(\"OPENAI_API_KEY\") \\\n",
        "    or getpass.getpass(\"OpenAI API Key: \")"
      ]
    },
    {
      "cell_type": "code",
      "source": [
        "!pip install openai-agents"
      ],
      "metadata": {
        "colab": {
          "base_uri": "https://localhost:8080/"
        },
        "collapsed": true,
        "id": "WlfRtLebQQK2",
        "outputId": "9d35412f-9755-4739-d6cf-3f813946f5f1"
      },
      "execution_count": 2,
      "outputs": [
        {
          "output_type": "stream",
          "name": "stdout",
          "text": [
            "Requirement already satisfied: openai-agents in /usr/local/lib/python3.11/dist-packages (0.0.16)\n",
            "Requirement already satisfied: griffe<2,>=1.5.6 in /usr/local/lib/python3.11/dist-packages (from openai-agents) (1.7.3)\n",
            "Requirement already satisfied: mcp<2,>=1.8.0 in /usr/local/lib/python3.11/dist-packages (from openai-agents) (1.9.1)\n",
            "Requirement already satisfied: openai>=1.81.0 in /usr/local/lib/python3.11/dist-packages (from openai-agents) (1.82.0)\n",
            "Requirement already satisfied: pydantic<3,>=2.10 in /usr/local/lib/python3.11/dist-packages (from openai-agents) (2.11.4)\n",
            "Requirement already satisfied: requests<3,>=2.0 in /usr/local/lib/python3.11/dist-packages (from openai-agents) (2.32.3)\n",
            "Requirement already satisfied: types-requests<3,>=2.0 in /usr/local/lib/python3.11/dist-packages (from openai-agents) (2.32.0.20250515)\n",
            "Requirement already satisfied: typing-extensions<5,>=4.12.2 in /usr/local/lib/python3.11/dist-packages (from openai-agents) (4.13.2)\n",
            "Requirement already satisfied: colorama>=0.4 in /usr/local/lib/python3.11/dist-packages (from griffe<2,>=1.5.6->openai-agents) (0.4.6)\n",
            "Requirement already satisfied: anyio>=4.5 in /usr/local/lib/python3.11/dist-packages (from mcp<2,>=1.8.0->openai-agents) (4.9.0)\n",
            "Requirement already satisfied: httpx-sse>=0.4 in /usr/local/lib/python3.11/dist-packages (from mcp<2,>=1.8.0->openai-agents) (0.4.0)\n",
            "Requirement already satisfied: httpx>=0.27 in /usr/local/lib/python3.11/dist-packages (from mcp<2,>=1.8.0->openai-agents) (0.28.1)\n",
            "Requirement already satisfied: pydantic-settings>=2.5.2 in /usr/local/lib/python3.11/dist-packages (from mcp<2,>=1.8.0->openai-agents) (2.9.1)\n",
            "Requirement already satisfied: python-multipart>=0.0.9 in /usr/local/lib/python3.11/dist-packages (from mcp<2,>=1.8.0->openai-agents) (0.0.20)\n",
            "Requirement already satisfied: sse-starlette>=1.6.1 in /usr/local/lib/python3.11/dist-packages (from mcp<2,>=1.8.0->openai-agents) (2.3.5)\n",
            "Requirement already satisfied: starlette>=0.27 in /usr/local/lib/python3.11/dist-packages (from mcp<2,>=1.8.0->openai-agents) (0.46.2)\n",
            "Requirement already satisfied: uvicorn>=0.23.1 in /usr/local/lib/python3.11/dist-packages (from mcp<2,>=1.8.0->openai-agents) (0.34.2)\n",
            "Requirement already satisfied: distro<2,>=1.7.0 in /usr/local/lib/python3.11/dist-packages (from openai>=1.81.0->openai-agents) (1.9.0)\n",
            "Requirement already satisfied: jiter<1,>=0.4.0 in /usr/local/lib/python3.11/dist-packages (from openai>=1.81.0->openai-agents) (0.9.0)\n",
            "Requirement already satisfied: sniffio in /usr/local/lib/python3.11/dist-packages (from openai>=1.81.0->openai-agents) (1.3.1)\n",
            "Requirement already satisfied: tqdm>4 in /usr/local/lib/python3.11/dist-packages (from openai>=1.81.0->openai-agents) (4.67.1)\n",
            "Requirement already satisfied: annotated-types>=0.6.0 in /usr/local/lib/python3.11/dist-packages (from pydantic<3,>=2.10->openai-agents) (0.7.0)\n",
            "Requirement already satisfied: pydantic-core==2.33.2 in /usr/local/lib/python3.11/dist-packages (from pydantic<3,>=2.10->openai-agents) (2.33.2)\n",
            "Requirement already satisfied: typing-inspection>=0.4.0 in /usr/local/lib/python3.11/dist-packages (from pydantic<3,>=2.10->openai-agents) (0.4.0)\n",
            "Requirement already satisfied: charset-normalizer<4,>=2 in /usr/local/lib/python3.11/dist-packages (from requests<3,>=2.0->openai-agents) (3.4.2)\n",
            "Requirement already satisfied: idna<4,>=2.5 in /usr/local/lib/python3.11/dist-packages (from requests<3,>=2.0->openai-agents) (3.10)\n",
            "Requirement already satisfied: urllib3<3,>=1.21.1 in /usr/local/lib/python3.11/dist-packages (from requests<3,>=2.0->openai-agents) (2.4.0)\n",
            "Requirement already satisfied: certifi>=2017.4.17 in /usr/local/lib/python3.11/dist-packages (from requests<3,>=2.0->openai-agents) (2025.4.26)\n",
            "Requirement already satisfied: httpcore==1.* in /usr/local/lib/python3.11/dist-packages (from httpx>=0.27->mcp<2,>=1.8.0->openai-agents) (1.0.9)\n",
            "Requirement already satisfied: h11>=0.16 in /usr/local/lib/python3.11/dist-packages (from httpcore==1.*->httpx>=0.27->mcp<2,>=1.8.0->openai-agents) (0.16.0)\n",
            "Requirement already satisfied: python-dotenv>=0.21.0 in /usr/local/lib/python3.11/dist-packages (from pydantic-settings>=2.5.2->mcp<2,>=1.8.0->openai-agents) (1.1.0)\n",
            "Requirement already satisfied: click>=7.0 in /usr/local/lib/python3.11/dist-packages (from uvicorn>=0.23.1->mcp<2,>=1.8.0->openai-agents) (8.2.0)\n",
            "Traceback (most recent call last):\n",
            "  File \"/usr/local/lib/python3.11/dist-packages/pip/_internal/cli/base_command.py\", line 179, in exc_logging_wrapper\n",
            "    status = run_func(*args)\n",
            "             ^^^^^^^^^^^^^^^\n",
            "  File \"/usr/local/lib/python3.11/dist-packages/pip/_internal/cli/req_command.py\", line 67, in wrapper\n",
            "    return func(self, options, args)\n",
            "           ^^^^^^^^^^^^^^^^^^^^^^^^^\n",
            "  File \"/usr/local/lib/python3.11/dist-packages/pip/_internal/commands/install.py\", line 447, in run\n",
            "    conflicts = self._determine_conflicts(to_install)\n",
            "                ^^^^^^^^^^^^^^^^^^^^^^^^^^^^^^^^^^^^^\n",
            "  File \"/usr/local/lib/python3.11/dist-packages/pip/_internal/commands/install.py\", line 578, in _determine_conflicts\n",
            "    return check_install_conflicts(to_install)\n",
            "           ^^^^^^^^^^^^^^^^^^^^^^^^^^^^^^^^^^^\n",
            "  File \"/usr/local/lib/python3.11/dist-packages/pip/_internal/operations/check.py\", line 101, in check_install_conflicts\n",
            "    package_set, _ = create_package_set_from_installed()\n",
            "                     ^^^^^^^^^^^^^^^^^^^^^^^^^^^^^^^^^^^\n",
            "  File \"/usr/local/lib/python3.11/dist-packages/pip/_internal/operations/check.py\", line 39, in create_package_set_from_installed\n",
            "    for dist in env.iter_installed_distributions(local_only=False, skip=()):\n",
            "  File \"/usr/local/lib/python3.11/dist-packages/pip/_internal/metadata/base.py\", line 664, in <genexpr>\n",
            "    return (d for d in it if d.canonical_name not in skip)\n",
            "           ^^^^^^^^^^^^^^^^^^^^^^^^^^^^^^^^^^^^^^^^^^^^^^^\n",
            "  File \"/usr/local/lib/python3.11/dist-packages/pip/_internal/metadata/base.py\", line 612, in iter_all_distributions\n",
            "    for dist in self._iter_distributions():\n",
            "  File \"/usr/local/lib/python3.11/dist-packages/pip/_internal/metadata/importlib/_envs.py\", line 176, in _iter_distributions\n",
            "    yield from finder.find(location)\n",
            "  File \"/usr/local/lib/python3.11/dist-packages/pip/_internal/metadata/importlib/_envs.py\", line 79, in find\n",
            "    for dist, info_location in self._find_impl(location):\n",
            "  File \"/usr/local/lib/python3.11/dist-packages/pip/_internal/metadata/importlib/_envs.py\", line 64, in _find_impl\n",
            "    raw_name = get_dist_name(dist)\n",
            "               ^^^^^^^^^^^^^^^^^^^\n",
            "  File \"/usr/local/lib/python3.11/dist-packages/pip/_internal/metadata/importlib/_compat.py\", line 52, in get_dist_name\n",
            "    name = cast(Any, dist).name\n",
            "           ^^^^^^^^^^^^^^^^^^^^\n",
            "  File \"/usr/lib/python3.11/importlib/metadata/__init__.py\", line 622, in name\n",
            "    return self.metadata['Name']\n",
            "           ^^^^^^^^^^^^^\n",
            "  File \"/usr/lib/python3.11/importlib/metadata/__init__.py\", line 617, in metadata\n",
            "    return _adapters.Message(email.message_from_string(text))\n",
            "                             ^^^^^^^^^^^^^^^^^^^^^^^^^^^^^^^\n",
            "  File \"/usr/lib/python3.11/email/__init__.py\", line 37, in message_from_string\n",
            "    return Parser(*args, **kws).parsestr(s)\n",
            "           ^^^^^^^^^^^^^^^^^^^^^^^^^^^^^^^^\n",
            "  File \"/usr/lib/python3.11/email/parser.py\", line 67, in parsestr\n",
            "    return self.parse(StringIO(text), headersonly=headersonly)\n",
            "           ^^^^^^^^^^^^^^^^^^^^^^^^^^^^^^^^^^^^^^^^^^^^^^^^^^^\n",
            "  File \"/usr/lib/python3.11/email/parser.py\", line 56, in parse\n",
            "    feedparser.feed(data)\n",
            "  File \"/usr/lib/python3.11/email/feedparser.py\", line 174, in feed\n",
            "    self._call_parse()\n",
            "  File \"/usr/lib/python3.11/email/feedparser.py\", line 178, in _call_parse\n",
            "    self._parse()\n",
            "  File \"/usr/lib/python3.11/email/feedparser.py\", line 462, in _parsegen\n",
            "    for line in self._input:\n",
            "  File \"/usr/lib/python3.11/email/feedparser.py\", line 128, in __next__\n",
            "    line = self.readline()\n",
            "           ^^^^^^^^^^^^^^^\n",
            "  File \"/usr/lib/python3.11/email/feedparser.py\", line 88, in readline\n",
            "    for ateof in reversed(self._eofstack):\n",
            "                 ^^^^^^^^^^^^^^^^^^^^^^^^\n",
            "KeyboardInterrupt\n",
            "\n",
            "During handling of the above exception, another exception occurred:\n",
            "\n",
            "Traceback (most recent call last):\n",
            "  File \"/usr/lib/python3.11/logging/__init__.py\", line 1742, in isEnabledFor\n",
            "    return self._cache[level]\n",
            "           ~~~~~~~~~~~^^^^^^^\n",
            "KeyError: 50\n",
            "\n",
            "During handling of the above exception, another exception occurred:\n",
            "\n",
            "Traceback (most recent call last):\n",
            "  File \"/usr/local/bin/pip3\", line 10, in <module>\n",
            "    sys.exit(main())\n",
            "             ^^^^^^\n",
            "  File \"/usr/local/lib/python3.11/dist-packages/pip/_internal/cli/main.py\", line 80, in main\n",
            "    return command.main(cmd_args)\n",
            "           ^^^^^^^^^^^^^^^^^^^^^^\n",
            "  File \"/usr/local/lib/python3.11/dist-packages/pip/_internal/cli/base_command.py\", line 100, in main\n",
            "    return self._main(args)\n",
            "           ^^^^^^^^^^^^^^^^\n",
            "  File \"/usr/local/lib/python3.11/dist-packages/pip/_internal/cli/base_command.py\", line 232, in _main\n",
            "    return run(options, args)\n",
            "           ^^^^^^^^^^^^^^^^^^\n",
            "  File \"/usr/local/lib/python3.11/dist-packages/pip/_internal/cli/base_command.py\", line 215, in exc_logging_wrapper\n",
            "    logger.critical(\"Operation cancelled by user\")\n",
            "  File \"/usr/lib/python3.11/logging/__init__.py\", line 1535, in critical\n",
            "    if self.isEnabledFor(CRITICAL):\n",
            "       ^^^^^^^^^^^^^^^^^^^^^^^^^^^\n",
            "  File \"/usr/lib/python3.11/logging/__init__.py\", line 1746, in isEnabledFor\n",
            "    if self.manager.disable >= level:\n",
            "       ^^^^^^^^^^^^^^^^^^^^\n",
            "  File \"/usr/lib/python3.11/logging/__init__.py\", line 1319, in disable\n",
            "    @property\n",
            "\n",
            "KeyboardInterrupt\n",
            "^C\n"
          ]
        }
      ]
    },
    {
      "cell_type": "code",
      "source": [
        "from agents import Agent, Runner, trace, RunContextWrapper, function_tool , GuardrailFunctionOutput ,input_guardrail"
      ],
      "metadata": {
        "id": "hAa4-i0kPJ4M"
      },
      "execution_count": 3,
      "outputs": []
    },
    {
      "cell_type": "code",
      "source": [
        "from enum import Enum\n",
        "from pydantic import BaseModel, Field\n",
        "\n",
        "default_model = \"gpt-4.1-nano\"\n",
        "\n",
        "class IntentStatus(str, Enum):\n",
        "    interested = 'interested'\n",
        "    not_interested = 'not_interested'\n",
        "\n",
        "class AgentResponse(BaseModel):\n",
        "    type: str = Field(..., description=\"fixed value = default\")\n",
        "    message: str = Field(..., description=\"Response of the queried task if not using another agent\")\n",
        "    context: str = Field(..., description=\"Summary of input which can be included in furthur messages as context if needed\")\n",
        "\n",
        "class IntentAgentResponse(AgentResponse):\n",
        "    type: str = Field(..., description=\"fixed value = intent\")\n",
        "    reasoning : str = Field(... , description= \"reasoning for the response that was generated\")\n"
      ],
      "metadata": {
        "id": "P6RxOtyMPJ0n"
      },
      "execution_count": 4,
      "outputs": []
    },
    {
      "cell_type": "code",
      "source": [
        "class recordIntentRequest(BaseModel):\n",
        "  intent : IntentStatus\n",
        "  pipeline_lead_id : int\n",
        "  candidate_lead_id : int\n",
        "  reasoning : str\n",
        "\n",
        "class escalateQueryRequest(BaseModel):\n",
        "  query : str\n",
        "  pipeline_lead_id : int\n",
        "  candidate_lead_id : int\n",
        "  reasoning : str\n",
        "\n",
        "@function_tool\n",
        "def escalate_query(req: escalateQueryRequest) -> str:\n",
        "  \"\"\"\n",
        "  Escalate the query to the recruiter.\n",
        "  \"\"\"\n",
        "  print(\"system logs = escalating query\")\n",
        "  print(req)\n",
        "  return \"escalate query called\"\n",
        "\n",
        "@function_tool\n",
        "def record_intent(req: recordIntentRequest) ->str:\n",
        "  \"\"\"\n",
        "  Record the intent of the candidate.\n",
        "  \"\"\"\n",
        "  print(\"system logs = recording intent\")\n",
        "  print(req)\n",
        "  return \"intent recorded\"\n",
        "\n",
        "intent_agent = Agent(\n",
        "    name = \"intent_agent\",\n",
        "    instructions = (\n",
        "      \"You are an expert recruiter whose job is to resolve candidate queries regarding the specific job openings. \"\n",
        "      \"Your ultimate goal is to ask the candidate whether they are interested or not interested in moving forward with this job opportunity and record their response as intent. \"\n",
        "      \"You must call the `record_intent` function whenever a candidate expresses interest or disinterest in the job. \"\n",
        "      \"Record intents of both types: 'interested' and 'not_interested' based on the candidate's latest messages. \"\n",
        "      \"You must only answer questions using the provided job information — do not fabricate details. \"\n",
        "      \"If the candidate asks irrelevant or nonsensical questions, do not respond. \"\n",
        "      \"If a question is valid but you don’t have an answer, escalate it internally (do not mention the escalation to the candidate). \"\n",
        "      \"Always reply in a polite and professional manner. \"\n",
        "      \"Once intent is expressed clearly, make sure to call the `record_intent` tool with the appropriate value: 'interested' or 'not_interested'.\"\n",
        "    ),\n",
        "    tools=[escalate_query, record_intent],\n",
        "    output_type=IntentAgentResponse\n",
        ")"
      ],
      "metadata": {
        "id": "kymmOk7ETXAM"
      },
      "execution_count": 35,
      "outputs": []
    },
    {
      "source": [
        "print(\"system logs = you are now chatting with the recruiter bot. Type exit to end conversation.\")\n",
        "\n",
        "convo = \"system : hi candidate i am akshit from placewell consultancy reaching out to you ragrding a job opening in amazon , Are you looking for a job right now?\\n\"\n",
        "\n",
        "while True :\n",
        "  user_input = input(\"Candidate : \")\n",
        "  # print(\"Candidate : \"+ user_input)\n",
        "\n",
        "  if user_input == 'exit':\n",
        "    print(\"system logs = ending chat.\")\n",
        "    break\n",
        "\n",
        "  # Add the user's input to the conversation history\n",
        "  convo += f\"Candidate : {user_input}\\n\"\n",
        "\n",
        "  # Set conversation_history to the current convo\n",
        "  conversation_history = convo\n",
        "\n",
        "  prompt = (\n",
        "      \"job information = \"\n",
        "      \"designation : SDE1\\n\"\n",
        "      \"Salary / salary range / total compensation : 10 LPA\\n\"\n",
        "      \"Company : Amazon\\n\"\n",
        "      \"Job  location : Gurgaon, Delhi , bangalore\\n\"\n",
        "      \"Job responsibilites : The candiate is responsible for making scalable systems that can be easily deployed\\n\"\n",
        "      \"Job roles : writing code , testing code\\n\\n\"\n",
        "\n",
        "      \"Conversation history = \\n\"\n",
        "      f\"{conversation_history}\"\n",
        "\n",
        "      \"candidate_lead_id = 11111\"\n",
        "\n",
        "      \"pipeline_lead_id = 22222\"\n",
        "\n",
        "  )\n",
        "\n",
        "  result = await Runner.run(intent_agent, prompt)\n",
        "  res = result.final_output.message\n",
        "  print(\"system logs = \")\n",
        "  print(result.final_output)\n",
        "  print(\"system : \"+ res)\n",
        "  # Add the agent's response to the conversation history\n",
        "  convo += f\"system : {res}\\n\""
      ],
      "cell_type": "code",
      "metadata": {
        "colab": {
          "base_uri": "https://localhost:8080/"
        },
        "id": "m86rWRUPdGfx",
        "outputId": "faf9ac6f-9207-42a2-dfdf-61767148c8db"
      },
      "execution_count": 48,
      "outputs": [
        {
          "output_type": "stream",
          "name": "stdout",
          "text": [
            "system logs = you are now chatting with the recruiter bot. Type exit to end conversation.\n",
            "Candidate : no\n",
            "system logs = recording intent\n",
            "intent=<IntentStatus.not_interested: 'not_interested'> pipeline_lead_id=22222 candidate_lead_id=11111 reasoning='The candidate has explicitly mentioned that they are not looking for a job at the moment.'\n",
            "system logs = \n",
            "type='intent' message='Thank you for your response. If you have any other queries or decide to explore job opportunities in the future, feel free to reach out. Have a great day!' context='Candidate is not looking for a job right now.' reasoning=\"The candidate clearly stated they are not looking for a job right now. Therefore, their intent is 'not_interested'.\"\n",
            "system : Thank you for your response. If you have any other queries or decide to explore job opportunities in the future, feel free to reach out. Have a great day!\n",
            "Candidate : exit\n",
            "system logs = ending chat.\n"
          ]
        }
      ]
    }
  ]
}